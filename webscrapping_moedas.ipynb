{
 "cells": [
  {
   "attachments": {},
   "cell_type": "markdown",
   "metadata": {},
   "source": [
    "##### passo 1: Pegar cotação do dolar\n",
    "##### passo 2: Pegar cootação do euro\n",
    "##### passo 3: Pegar cootação do ouro\n",
    "##### passo 4: Importar a base e atualizar cotações em base\n",
    "##### passo 5: Calcular os novos preços e salvar/exportar a base de dados"
   ]
  },
  {
   "cell_type": "code",
   "execution_count": 11,
   "metadata": {},
   "outputs": [],
   "source": [
    "from selenium import webdriver\n",
    "from selenium.webdriver.common.by import By\n",
    "from selenium.webdriver.common.keys import Keys\n"
   ]
  },
  {
   "cell_type": "code",
   "execution_count": 14,
   "metadata": {},
   "outputs": [
    {
     "name": "stdout",
     "output_type": "stream",
     "text": [
      "4.9984\n",
      "5.4095184000000005\n",
      "318.56\n"
     ]
    }
   ],
   "source": [
    "navegador = webdriver.Chrome()\n",
    "# cotacao Dolar\n",
    "navegador.get(\"https://www.google.com/\")\n",
    "navegador.find_element(By.XPATH,'//*[@id=\"APjFqb\"]').send_keys(\"Cotação dolar\")\n",
    "navegador.find_element(By.XPATH,'/html/body/div[1]/div[3]/form/div[1]/div[1]/div[4]/center/input[1]').send_keys(Keys.ENTER)\n",
    "cotacao_dolar = navegador.find_element(By.XPATH,'//*[@id=\"knowledge-currency__updatable-data-column\"]/div[1]/div[2]/span[1]').get_attribute('data-value')\n",
    "print(cotacao_dolar)\n",
    "\n",
    "# cotacao Euro\n",
    "navegador.get(\"https://www.google.com/\")\n",
    "navegador.find_element(By.XPATH,'//*[@id=\"APjFqb\"]').send_keys(\"Cotação euro\")\n",
    "navegador.find_element(By.XPATH,'/html/body/div[1]/div[3]/form/div[1]/div[1]/div[4]/center/input[1]').send_keys(Keys.ENTER)\n",
    "cotacao_euro = navegador.find_element(By.XPATH,'//*[@id=\"knowledge-currency__updatable-data-column\"]/div[1]/div[2]/span[1]').get_attribute('data-value')\n",
    "print(cotacao_euro)\n",
    "\n",
    "\n",
    "# cotacao Ouro\n",
    "navegador.get(\"https://www.melhorcambio.com/ouro-hoje\")\n",
    "cotacao_ouro = navegador.find_element(By.XPATH,'//*[@id=\"comercial\"]').get_attribute('value')\n",
    "cotacao_ouro = cotacao_ouro.replace(',', '.')\n",
    "print(cotacao_ouro)"
   ]
  }
 ],
 "metadata": {
  "kernelspec": {
   "display_name": "Python 3",
   "language": "python",
   "name": "python3"
  },
  "language_info": {
   "codemirror_mode": {
    "name": "ipython",
    "version": 3
   },
   "file_extension": ".py",
   "mimetype": "text/x-python",
   "name": "python",
   "nbconvert_exporter": "python",
   "pygments_lexer": "ipython3",
   "version": "3.10.6"
  },
  "orig_nbformat": 4
 },
 "nbformat": 4,
 "nbformat_minor": 2
}
